{
 "cells": [
  {
   "cell_type": "code",
   "execution_count": null,
   "metadata": {
    "ExecuteTime": {
     "end_time": "2019-12-18T06:01:56.263558Z",
     "start_time": "2019-12-18T06:01:51.717351Z"
    }
   },
   "outputs": [],
   "source": [
    "import os\n",
    "import librosa\n",
    "from tqdm import tqdm\n",
    "import torch\n",
    "import numpy as np\n",
    "import codecs\n",
    "from utils.text2seq import text2seq\n",
    "from layers import TacotronSTFT\n",
    "import hparams as hp\n",
    "\n",
    "csv_file = './data/metadata.csv'\n",
    "root_dir = '../data/wavs'\n",
    "data_dir = '../data/preprocessed'\n",
    "\n",
    "stft = TacotronSTFT()\n",
    "def get_mel(filename):\n",
    "    wav, sr = librosa.load(filename, sr=hp.sampling_rate)\n",
    "    wav = torch.FloatTensor(wav.astype(np.float32))\n",
    "    \n",
    "    ### trimming ###\n",
    "    start = torch.where(torch.abs(wav)>(torch.abs(wav).max()*0.05))[0][0]\n",
    "    end = torch.where(torch.abs(wav)>(torch.abs(wav).max()*0.05))[0][-1]\n",
    "    \n",
    "    ### 50ms silence padding ###\n",
    "    wav = torch.nn.functional.pad(wav[start:end], (0, hp.sampling_rate//20))\n",
    "    melspec = stft.mel_spectrogram(wav.unsqueeze(0))\n",
    "    \n",
    "    return melspec.squeeze(0), wav\n",
    "\n",
    "\n",
    "if not os.path.exists(f'{data_dir}'):\n",
    "    os.mkdir(f'{data_dir}')\n",
    "if not os.path.exists(f'{data_dir}/phone_seq'):\n",
    "    os.mkdir(f'{data_dir}/phone_seq')\n",
    "if not os.path.exists(f'{data_dir}/melspectrogram'):\n",
    "    os.mkdir(f'{data_dir}/melspectrogram')\n",
    "\n",
    "\n",
    "with codecs.open(csv_file, 'r', 'utf-8') as f:\n",
    "    for line in tqdm(f.readlines()):\n",
    "        fname, _, text = line.split(\"|\")\n",
    "        wav_name = os.path.join(root_dir, fname) + '.wav'\n",
    "        phone_seq = text2seq(text)\n",
    "        melspec, wav = get_mel(wav_name)\n",
    "        np.save(f'{data_dir}/phone_seq/{fname}_sequence.npy', phone_seq)\n",
    "        np.save(f'{data_dir}/melspectrogram/{fname}_melspectrogram.npy', melspec.numpy())\n",
    "    \n",
    "print(\"FINISH DATA PREPROCESSING!!!\")"
   ]
  }
 ],
 "metadata": {
  "kernelspec": {
   "display_name": "Environment (conda_pytorch_p36)",
   "language": "python",
   "name": "conda_pytorch_p36"
  },
  "language_info": {
   "codemirror_mode": {
    "name": "ipython",
    "version": 3
   },
   "file_extension": ".py",
   "mimetype": "text/x-python",
   "name": "python",
   "nbconvert_exporter": "python",
   "pygments_lexer": "ipython3",
   "version": "3.6.10"
  },
  "varInspector": {
   "cols": {
    "lenName": 16,
    "lenType": 16,
    "lenVar": 40
   },
   "kernels_config": {
    "python": {
     "delete_cmd_postfix": "",
     "delete_cmd_prefix": "del ",
     "library": "var_list.py",
     "varRefreshCmd": "print(var_dic_list())"
    },
    "r": {
     "delete_cmd_postfix": ") ",
     "delete_cmd_prefix": "rm(",
     "library": "var_list.r",
     "varRefreshCmd": "cat(var_dic_list()) "
    }
   },
   "types_to_exclude": [
    "module",
    "function",
    "builtin_function_or_method",
    "instance",
    "_Feature"
   ],
   "window_display": false
  }
 },
 "nbformat": 4,
 "nbformat_minor": 2
}
