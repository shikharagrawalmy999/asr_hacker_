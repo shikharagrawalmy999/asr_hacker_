{
 "cells": [
  {
   "cell_type": "code",
   "execution_count": null,
   "metadata": {},
   "outputs": [],
   "source": [
    "import os\n",
    "# os.environ[\"CUDA_VISIBLE_DEVICES\"] = '0'\n",
    "\n",
    "import warnings\n",
    "warnings.filterwarnings(\"ignore\")\n",
    "\n",
    "import sys\n",
    "sys.path.append('waveglow/')\n",
    "\n",
    "import matplotlib.pyplot as plt\n",
    "# %matplotlib inline\n",
    "\n",
    "import IPython.display as ipd\n",
    "from text import *\n",
    "import torch\n",
    "import hparams as hp\n",
    "from modules.model import Model\n",
    "from denoiser import Denoiser\n",
    "from utils.utils import *\n",
    "from utils.text2seq import text2seq\n",
    "\n",
    "waveglow_path = 'training_log/waveglow_256channels_ljs_v2.pt'\n",
    "waveglow = torch.load(waveglow_path, map_location=torch.device(\"cpu\"))['model']\n",
    "\n",
    "for m in waveglow.modules():\n",
    "    if 'Conv' in str(type(m)):\n",
    "        setattr(m, 'padding_mode', 'zeros')\n",
    "\n",
    "waveglow.eval()\n",
    "for k in waveglow.convinv:\n",
    "    k.float()\n",
    "\n",
    "denoiser = Denoiser(waveglow)\n",
    "\n",
    "checkpoint_path = f\"training_log/baseline/checkpoint_100\"\n",
    "model = Model(hp)\n",
    "model.load_state_dict(torch.load(checkpoint_path, map_location=torch.device(\"cpu\"))['state_dict'])\n",
    "_ = model.eval()\n",
    "\n",
    "with open('filelists/test_new.txt', 'r') as f:\n",
    "    test_data = f.read().splitlines()\n",
    "    \n",
    "for i, x in enumerate(test_data[:10]):\n",
    "    file, text = x.split('|')\n",
    "    print(f\"{file}: {text}\")\n",
    "    phone_seq = text2seq(text)\n",
    "    sequence = torch.autograd.Variable(torch.from_numpy(phone_seq)).long().unsqueeze(0)\n",
    "\n",
    "    temperature=[0.333, 0.333, 0.333, 0.333]\n",
    "    with torch.no_grad():\n",
    "        melspec, durations = model.inference(sequence, alpha=1.0, temperature=temperature)\n",
    "        melspec = melspec*(hp.max_db-hp.min_db)+hp.min_db\n",
    "        audio = waveglow.infer(melspec, sigma=0.666)\n",
    "        audio_denoised = denoiser(audio, strength=0.03)[:, 0]\n",
    "        ipd.display(ipd.Audio(audio_denoised.cpu().numpy(), rate=22050))\n"
   ]
  }
 ],
 "metadata": {
  "kernelspec": {
   "display_name": "Python 3.8.10 64-bit",
   "language": "python",
   "name": "python3"
  },
  "language_info": {
   "codemirror_mode": {
    "name": "ipython",
    "version": 3
   },
   "file_extension": ".py",
   "mimetype": "text/x-python",
   "name": "python",
   "nbconvert_exporter": "python",
   "pygments_lexer": "ipython3",
   "version": "3.8.10"
  },
  "orig_nbformat": 4,
  "vscode": {
   "interpreter": {
    "hash": "e7370f93d1d0cde622a1f8e1c04877d8463912d04d973331ad4851f04de6915a"
   }
  }
 },
 "nbformat": 4,
 "nbformat_minor": 2
}
